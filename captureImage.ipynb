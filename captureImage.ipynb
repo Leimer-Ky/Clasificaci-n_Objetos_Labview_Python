{
 "cells": [
  {
   "cell_type": "code",
   "execution_count": 1,
   "metadata": {},
   "outputs": [],
   "source": [
    "import cv2\n",
    "import os\n",
    "import imutils"
   ]
  },
  {
   "cell_type": "code",
   "execution_count": 11,
   "metadata": {},
   "outputs": [
    {
     "name": "stdout",
     "output_type": "stream",
     "text": [
      "C:/Users/USUARIO/Desktop/Copia/Escritorio/TrAbAjOs/12/Informatica/Proyecto/Data/nano2\n"
     ]
    }
   ],
   "source": [
    "nameID = 'nano2'\n",
    "path = 'C:/Users/USUARIO/Desktop/Copia/Escritorio/TrAbAjOs/12/Informatica/Proyecto/Data'\n",
    "namePath = path + '/' + nameID\n",
    "video_path = 'C:/Users/USUARIO/Desktop/Copia/Escritorio/TrAbAjOs/12/Informatica/Proyecto/graciones_DB/nano2.mp4'\n",
    " \n",
    "img_index = 0\n",
    "\n",
    "print (namePath)"
   ]
  },
  {
   "cell_type": "code",
   "execution_count": 12,
   "metadata": {},
   "outputs": [],
   "source": [
    "if not os.path.exists(namePath):\n",
    "    print('Carpeta creada: ', namePath)\n",
    "    os.makedirs(namePath)\n",
    "\n"
   ]
  },
  {
   "cell_type": "code",
   "execution_count": 13,
   "metadata": {},
   "outputs": [],
   "source": [
    "cap = cv2.VideoCapture(video_path)"
   ]
  },
  {
   "cell_type": "code",
   "execution_count": 14,
   "metadata": {},
   "outputs": [
    {
     "name": "stdout",
     "output_type": "stream",
     "text": [
      "complete\n"
     ]
    }
   ],
   "source": [
    "while(cap.isOpened()):\n",
    "    ret, frame = cap.read()\n",
    "    \n",
    "    if ret == False:\n",
    "        break\n",
    "    if img_index == 300:\n",
    "        break\n",
    "    cv2.imwrite(namePath + '/nano(' + str(img_index) +')' + '.jpg', frame)\n",
    "    img_index +=1\n",
    "    \n",
    "cap.release()\n",
    "cv2.destroyAllWindows()\n",
    "print (\"complete\")"
   ]
  },
  {
   "cell_type": "code",
   "execution_count": null,
   "metadata": {},
   "outputs": [],
   "source": []
  }
 ],
 "metadata": {
  "kernelspec": {
   "display_name": "Python 3",
   "language": "python",
   "name": "python3"
  },
  "language_info": {
   "codemirror_mode": {
    "name": "ipython",
    "version": 3
   },
   "file_extension": ".py",
   "mimetype": "text/x-python",
   "name": "python",
   "nbconvert_exporter": "python",
   "pygments_lexer": "ipython3",
   "version": "3.7.6"
  }
 },
 "nbformat": 4,
 "nbformat_minor": 4
}
